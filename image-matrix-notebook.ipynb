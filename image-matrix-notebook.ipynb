{
 "cells": [
  {
   "cell_type": "code",
   "execution_count": null,
   "metadata": {
    "dotnet_interactive": {
     "language": "csharp"
    }
   },
   "outputs": [
    {
     "data": {
      "text/html": [
       "<div><div></div><div></div><div><strong>Installed Packages</strong><ul><li><span>SkiaSharp, 2.88.0-preview.232</span></li></ul></div></div>"
      ]
     },
     "metadata": {},
     "output_type": "display_data"
    },
    {
     "name": "stdout",
     "output_type": "stream",
     "text": [
      "3730 files found\r\n"
     ]
    }
   ],
   "source": [
    "#r \"nuget: SkiaSharp, 2.88.0-preview.232\"\n",
    "\n",
    "using SkiaSharp;\n",
    "\n",
    "var files = System.IO.Directory.GetFiles(\"C:/imgs\");\n",
    "\n",
    "var bmp = new SKBitmap(3000,3000);\n",
    "var result = new SKCanvas(bmp);\n",
    "int rows = 30;\n",
    "int cols = 30;\n",
    "\n",
    "for(int i = 0; i < rows; i++)\n",
    "{\n",
    "    for(int j = 0; j < cols; j++)\n",
    "    {\n",
    "        var file = files[i * cols + j];\n",
    "        var bitmap = SKBitmap.Decode(file);\n",
    "        result.DrawBitmap(bitmap, new SKRect(j * bitmap.Width, i * bitmap.Height, (j + 1) * bitmap.Width, (i + 1) * bitmap.Height));\n",
    "    }\n",
    "}\n",
    "\n",
    "var data = bmp.Encode(SKEncodedImageFormat.Jpeg, 100);\n",
    "System.IO.File.WriteAllBytes(\"C:/imgs/result.jpg\", data.ToArray()); \n",
    "\n",
    "\n"
   ]
  }
 ],
 "metadata": {
  "kernelspec": {
   "display_name": ".NET (C#)",
   "language": "C#",
   "name": ".net-csharp"
  },
  "language_info": {
   "name": "C#"
  }
 },
 "nbformat": 4,
 "nbformat_minor": 2
}
